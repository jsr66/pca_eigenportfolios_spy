{
 "cells": [
  {
   "cell_type": "markdown",
   "metadata": {},
   "source": [
    "## Eigenportfolios from S&P500 Stock Data Using Principal Component Analysis (PCA)\n",
    "\n",
    "In this notebook, I construct eigenporfolios using price data from stocks included in the S&P500 and evaluate their performance as measured by Sharpe ratio. "
   ]
  },
  {
   "cell_type": "code",
   "execution_count": 42,
   "metadata": {},
   "outputs": [],
   "source": [
    "import os\n",
    "import os.path\n",
    "import numpy as np\n",
    "import datetime\n",
    "import sys\n",
    "sys.path.append(\"..\")\n",
    "import matplotlib.pyplot as plt\n",
    "%matplotlib inline\n",
    "import pandas as pd"
   ]
  },
  {
   "cell_type": "code",
   "execution_count": 43,
   "metadata": {},
   "outputs": [
    {
     "name": "stdout",
     "output_type": "stream",
     "text": [
      "Asset prices shape (3493, 419)\n"
     ]
    },
    {
     "data": {
      "text/html": [
       "<div>\n",
       "<style scoped>\n",
       "    .dataframe tbody tr th:only-of-type {\n",
       "        vertical-align: middle;\n",
       "    }\n",
       "\n",
       "    .dataframe tbody tr th {\n",
       "        vertical-align: top;\n",
       "    }\n",
       "\n",
       "    .dataframe thead th {\n",
       "        text-align: right;\n",
       "    }\n",
       "</style>\n",
       "<table border=\"1\" class=\"dataframe\">\n",
       "  <thead>\n",
       "    <tr style=\"text-align: right;\">\n",
       "      <th></th>\n",
       "      <th>A</th>\n",
       "      <th>AA</th>\n",
       "      <th>AAPL</th>\n",
       "      <th>ABC</th>\n",
       "      <th>ABT</th>\n",
       "      <th>ADBE</th>\n",
       "      <th>ADI</th>\n",
       "      <th>ADM</th>\n",
       "      <th>ADP</th>\n",
       "      <th>ADSK</th>\n",
       "      <th>AEE</th>\n",
       "      <th>AEP</th>\n",
       "    </tr>\n",
       "  </thead>\n",
       "  <tbody>\n",
       "    <tr>\n",
       "      <th>2000-01-27</th>\n",
       "      <td>46.1112</td>\n",
       "      <td>78.9443</td>\n",
       "      <td>3.9286</td>\n",
       "      <td>4.5485</td>\n",
       "      <td>13.7898</td>\n",
       "      <td>15.6719</td>\n",
       "      <td>48.0313</td>\n",
       "      <td>10.8844</td>\n",
       "      <td>39.5477</td>\n",
       "      <td>8.1250</td>\n",
       "      <td>32.9375</td>\n",
       "      <td>33.5625</td>\n",
       "    </tr>\n",
       "    <tr>\n",
       "      <th>2000-01-28</th>\n",
       "      <td>45.8585</td>\n",
       "      <td>77.8245</td>\n",
       "      <td>3.6295</td>\n",
       "      <td>4.5485</td>\n",
       "      <td>14.2653</td>\n",
       "      <td>14.3906</td>\n",
       "      <td>47.7500</td>\n",
       "      <td>10.7143</td>\n",
       "      <td>38.5627</td>\n",
       "      <td>7.7188</td>\n",
       "      <td>32.3125</td>\n",
       "      <td>33.0000</td>\n",
       "    </tr>\n",
       "    <tr>\n",
       "      <th>2000-01-31</th>\n",
       "      <td>44.5952</td>\n",
       "      <td>78.0345</td>\n",
       "      <td>3.7054</td>\n",
       "      <td>4.3968</td>\n",
       "      <td>14.5730</td>\n",
       "      <td>13.7656</td>\n",
       "      <td>46.7500</td>\n",
       "      <td>10.6576</td>\n",
       "      <td>37.3807</td>\n",
       "      <td>7.6406</td>\n",
       "      <td>32.5625</td>\n",
       "      <td>33.5000</td>\n",
       "    </tr>\n",
       "    <tr>\n",
       "      <th>2000-02-01</th>\n",
       "      <td>47.8377</td>\n",
       "      <td>80.7640</td>\n",
       "      <td>3.5804</td>\n",
       "      <td>4.5333</td>\n",
       "      <td>14.7128</td>\n",
       "      <td>13.9688</td>\n",
       "      <td>49.0000</td>\n",
       "      <td>10.8844</td>\n",
       "      <td>37.9717</td>\n",
       "      <td>7.9219</td>\n",
       "      <td>32.5625</td>\n",
       "      <td>33.6875</td>\n",
       "    </tr>\n",
       "    <tr>\n",
       "      <th>2000-02-02</th>\n",
       "      <td>51.5434</td>\n",
       "      <td>83.4934</td>\n",
       "      <td>3.5290</td>\n",
       "      <td>4.5788</td>\n",
       "      <td>14.7968</td>\n",
       "      <td>15.3281</td>\n",
       "      <td>48.1250</td>\n",
       "      <td>10.6576</td>\n",
       "      <td>35.9032</td>\n",
       "      <td>7.9688</td>\n",
       "      <td>32.5625</td>\n",
       "      <td>33.6250</td>\n",
       "    </tr>\n",
       "  </tbody>\n",
       "</table>\n",
       "</div>"
      ],
      "text/plain": [
       "                  A       AA    AAPL     ABC      ABT     ADBE      ADI  \\\n",
       "2000-01-27  46.1112  78.9443  3.9286  4.5485  13.7898  15.6719  48.0313   \n",
       "2000-01-28  45.8585  77.8245  3.6295  4.5485  14.2653  14.3906  47.7500   \n",
       "2000-01-31  44.5952  78.0345  3.7054  4.3968  14.5730  13.7656  46.7500   \n",
       "2000-02-01  47.8377  80.7640  3.5804  4.5333  14.7128  13.9688  49.0000   \n",
       "2000-02-02  51.5434  83.4934  3.5290  4.5788  14.7968  15.3281  48.1250   \n",
       "\n",
       "                ADM      ADP    ADSK      AEE      AEP  \n",
       "2000-01-27  10.8844  39.5477  8.1250  32.9375  33.5625  \n",
       "2000-01-28  10.7143  38.5627  7.7188  32.3125  33.0000  \n",
       "2000-01-31  10.6576  37.3807  7.6406  32.5625  33.5000  \n",
       "2000-02-01  10.8844  37.9717  7.9219  32.5625  33.6875  \n",
       "2000-02-02  10.6576  35.9032  7.9688  32.5625  33.6250  "
      ]
     },
     "execution_count": 43,
     "metadata": {},
     "output_type": "execute_result"
    }
   ],
   "source": [
    "# load dataset\n",
    "asset_prices = pd.read_csv(os.getcwd() + '/data/spx_holdings_and_spx_closeprice.csv', \n",
    "                           date_parser=lambda dt: pd.to_datetime(dt, format='%Y-%m-%d'),\n",
    "                           index_col = 0).dropna()\n",
    "n_stocks_show = 12\n",
    "print('Asset prices shape', asset_prices.shape)\n",
    "asset_prices.iloc[:, :n_stocks_show].head()"
   ]
  },
  {
   "cell_type": "code",
   "execution_count": 44,
   "metadata": {},
   "outputs": [
    {
     "data": {
      "text/html": [
       "<div>\n",
       "<style scoped>\n",
       "    .dataframe tbody tr th:only-of-type {\n",
       "        vertical-align: middle;\n",
       "    }\n",
       "\n",
       "    .dataframe tbody tr th {\n",
       "        vertical-align: top;\n",
       "    }\n",
       "\n",
       "    .dataframe thead th {\n",
       "        text-align: right;\n",
       "    }\n",
       "</style>\n",
       "<table border=\"1\" class=\"dataframe\">\n",
       "  <thead>\n",
       "    <tr style=\"text-align: right;\">\n",
       "      <th></th>\n",
       "      <th>A</th>\n",
       "      <th>AA</th>\n",
       "      <th>AAPL</th>\n",
       "      <th>ABC</th>\n",
       "      <th>ABT</th>\n",
       "      <th>ADBE</th>\n",
       "      <th>ADI</th>\n",
       "      <th>ADM</th>\n",
       "      <th>ADP</th>\n",
       "      <th>ADSK</th>\n",
       "      <th>AEE</th>\n",
       "      <th>AEP</th>\n",
       "    </tr>\n",
       "  </thead>\n",
       "  <tbody>\n",
       "    <tr>\n",
       "      <th>2013-12-16</th>\n",
       "      <td>39.5014</td>\n",
       "      <td>21.4325</td>\n",
       "      <td>79.6429</td>\n",
       "      <td>68.45</td>\n",
       "      <td>36.53</td>\n",
       "      <td>58.50</td>\n",
       "      <td>48.74</td>\n",
       "      <td>40.66</td>\n",
       "      <td>68.0013</td>\n",
       "      <td>47.185</td>\n",
       "      <td>35.25</td>\n",
       "      <td>45.97</td>\n",
       "    </tr>\n",
       "    <tr>\n",
       "      <th>2013-12-17</th>\n",
       "      <td>40.3094</td>\n",
       "      <td>21.7237</td>\n",
       "      <td>79.2843</td>\n",
       "      <td>68.35</td>\n",
       "      <td>36.61</td>\n",
       "      <td>57.67</td>\n",
       "      <td>48.94</td>\n",
       "      <td>41.48</td>\n",
       "      <td>67.7689</td>\n",
       "      <td>47.500</td>\n",
       "      <td>35.25</td>\n",
       "      <td>45.82</td>\n",
       "    </tr>\n",
       "    <tr>\n",
       "      <th>2013-12-18</th>\n",
       "      <td>41.3964</td>\n",
       "      <td>22.0148</td>\n",
       "      <td>78.6814</td>\n",
       "      <td>69.61</td>\n",
       "      <td>38.12</td>\n",
       "      <td>59.04</td>\n",
       "      <td>49.78</td>\n",
       "      <td>43.14</td>\n",
       "      <td>69.3830</td>\n",
       "      <td>48.270</td>\n",
       "      <td>35.90</td>\n",
       "      <td>46.51</td>\n",
       "    </tr>\n",
       "    <tr>\n",
       "      <th>2013-12-19</th>\n",
       "      <td>41.0317</td>\n",
       "      <td>22.3284</td>\n",
       "      <td>77.7800</td>\n",
       "      <td>69.63</td>\n",
       "      <td>38.03</td>\n",
       "      <td>58.13</td>\n",
       "      <td>49.66</td>\n",
       "      <td>43.79</td>\n",
       "      <td>69.6769</td>\n",
       "      <td>48.045</td>\n",
       "      <td>35.79</td>\n",
       "      <td>46.38</td>\n",
       "    </tr>\n",
       "    <tr>\n",
       "      <th>2013-12-20</th>\n",
       "      <td>40.7313</td>\n",
       "      <td>22.2612</td>\n",
       "      <td>78.4314</td>\n",
       "      <td>69.82</td>\n",
       "      <td>37.84</td>\n",
       "      <td>59.26</td>\n",
       "      <td>50.01</td>\n",
       "      <td>43.36</td>\n",
       "      <td>70.1550</td>\n",
       "      <td>49.190</td>\n",
       "      <td>36.15</td>\n",
       "      <td>46.72</td>\n",
       "    </tr>\n",
       "  </tbody>\n",
       "</table>\n",
       "</div>"
      ],
      "text/plain": [
       "                  A       AA     AAPL    ABC    ABT   ADBE    ADI    ADM  \\\n",
       "2013-12-16  39.5014  21.4325  79.6429  68.45  36.53  58.50  48.74  40.66   \n",
       "2013-12-17  40.3094  21.7237  79.2843  68.35  36.61  57.67  48.94  41.48   \n",
       "2013-12-18  41.3964  22.0148  78.6814  69.61  38.12  59.04  49.78  43.14   \n",
       "2013-12-19  41.0317  22.3284  77.7800  69.63  38.03  58.13  49.66  43.79   \n",
       "2013-12-20  40.7313  22.2612  78.4314  69.82  37.84  59.26  50.01  43.36   \n",
       "\n",
       "                ADP    ADSK    AEE    AEP  \n",
       "2013-12-16  68.0013  47.185  35.25  45.97  \n",
       "2013-12-17  67.7689  47.500  35.25  45.82  \n",
       "2013-12-18  69.3830  48.270  35.90  46.51  \n",
       "2013-12-19  69.6769  48.045  35.79  46.38  \n",
       "2013-12-20  70.1550  49.190  36.15  46.72  "
      ]
     },
     "execution_count": 44,
     "metadata": {},
     "output_type": "execute_result"
    }
   ],
   "source": [
    "asset_prices.iloc[:, :n_stocks_show].tail()"
   ]
  },
  {
   "cell_type": "code",
   "execution_count": 45,
   "metadata": {},
   "outputs": [
    {
     "name": "stdout",
     "output_type": "stream",
     "text": [
      "Last column contains SPX index prices:\n"
     ]
    },
    {
     "data": {
      "text/html": [
       "<div>\n",
       "<style scoped>\n",
       "    .dataframe tbody tr th:only-of-type {\n",
       "        vertical-align: middle;\n",
       "    }\n",
       "\n",
       "    .dataframe tbody tr th {\n",
       "        vertical-align: top;\n",
       "    }\n",
       "\n",
       "    .dataframe thead th {\n",
       "        text-align: right;\n",
       "    }\n",
       "</style>\n",
       "<table border=\"1\" class=\"dataframe\">\n",
       "  <thead>\n",
       "    <tr style=\"text-align: right;\">\n",
       "      <th></th>\n",
       "      <th>STJ</th>\n",
       "      <th>SVU</th>\n",
       "      <th>SWY</th>\n",
       "      <th>TEG</th>\n",
       "      <th>TER</th>\n",
       "      <th>TGNA</th>\n",
       "      <th>THC</th>\n",
       "      <th>X</th>\n",
       "      <th>MAR.1</th>\n",
       "      <th>SPX</th>\n",
       "    </tr>\n",
       "  </thead>\n",
       "  <tbody>\n",
       "    <tr>\n",
       "      <th>2000-01-27</th>\n",
       "      <td>5.5918</td>\n",
       "      <td>86.6178</td>\n",
       "      <td>26.3983</td>\n",
       "      <td>11.3873</td>\n",
       "      <td>65.8677</td>\n",
       "      <td>22.1921</td>\n",
       "      <td>60.9705</td>\n",
       "      <td>20.7086</td>\n",
       "      <td>12.2457</td>\n",
       "      <td>1398.56</td>\n",
       "    </tr>\n",
       "    <tr>\n",
       "      <th>2000-01-28</th>\n",
       "      <td>5.4520</td>\n",
       "      <td>82.4218</td>\n",
       "      <td>27.4137</td>\n",
       "      <td>11.2230</td>\n",
       "      <td>60.3487</td>\n",
       "      <td>21.7558</td>\n",
       "      <td>62.3032</td>\n",
       "      <td>20.1183</td>\n",
       "      <td>12.0742</td>\n",
       "      <td>1360.16</td>\n",
       "    </tr>\n",
       "    <tr>\n",
       "      <th>2000-01-31</th>\n",
       "      <td>5.5499</td>\n",
       "      <td>86.3181</td>\n",
       "      <td>28.2444</td>\n",
       "      <td>11.0862</td>\n",
       "      <td>62.1484</td>\n",
       "      <td>22.0533</td>\n",
       "      <td>60.6373</td>\n",
       "      <td>19.5772</td>\n",
       "      <td>12.1722</td>\n",
       "      <td>1394.46</td>\n",
       "    </tr>\n",
       "    <tr>\n",
       "      <th>2000-02-01</th>\n",
       "      <td>5.4240</td>\n",
       "      <td>83.0212</td>\n",
       "      <td>28.7982</td>\n",
       "      <td>11.1683</td>\n",
       "      <td>67.3674</td>\n",
       "      <td>22.2120</td>\n",
       "      <td>60.4708</td>\n",
       "      <td>19.5772</td>\n",
       "      <td>12.5151</td>\n",
       "      <td>1409.28</td>\n",
       "    </tr>\n",
       "    <tr>\n",
       "      <th>2000-02-02</th>\n",
       "      <td>5.3541</td>\n",
       "      <td>81.5226</td>\n",
       "      <td>28.6136</td>\n",
       "      <td>11.1956</td>\n",
       "      <td>68.9271</td>\n",
       "      <td>22.6483</td>\n",
       "      <td>62.4698</td>\n",
       "      <td>19.5281</td>\n",
       "      <td>12.3192</td>\n",
       "      <td>1409.12</td>\n",
       "    </tr>\n",
       "  </tbody>\n",
       "</table>\n",
       "</div>"
      ],
      "text/plain": [
       "               STJ      SVU      SWY      TEG      TER     TGNA      THC  \\\n",
       "2000-01-27  5.5918  86.6178  26.3983  11.3873  65.8677  22.1921  60.9705   \n",
       "2000-01-28  5.4520  82.4218  27.4137  11.2230  60.3487  21.7558  62.3032   \n",
       "2000-01-31  5.5499  86.3181  28.2444  11.0862  62.1484  22.0533  60.6373   \n",
       "2000-02-01  5.4240  83.0212  28.7982  11.1683  67.3674  22.2120  60.4708   \n",
       "2000-02-02  5.3541  81.5226  28.6136  11.1956  68.9271  22.6483  62.4698   \n",
       "\n",
       "                  X    MAR.1      SPX  \n",
       "2000-01-27  20.7086  12.2457  1398.56  \n",
       "2000-01-28  20.1183  12.0742  1360.16  \n",
       "2000-01-31  19.5772  12.1722  1394.46  \n",
       "2000-02-01  19.5772  12.5151  1409.28  \n",
       "2000-02-02  19.5281  12.3192  1409.12  "
      ]
     },
     "execution_count": 45,
     "metadata": {},
     "output_type": "execute_result"
    }
   ],
   "source": [
    "print('Last column contains SPX index prices:')\n",
    "asset_prices.iloc[:, -10:].head()"
   ]
  },
  {
   "cell_type": "markdown",
   "metadata": {},
   "source": [
    "#### Part 1 (Asset Returns Calculation)\n",
    "\n",
    "Calculate percent returns, also known as simple returns using asset_prices. assign the result to variable asset_returns. Keep only not-nan values in the resulting pandas.DataFrame\n",
    "\n",
    "Calculate de-meaned returns and scale them by standard deviation $\\sigma$. Assign result to normed_returns variable"
   ]
  },
  {
   "cell_type": "markdown",
   "metadata": {},
   "source": [
    "Compute stock returns and normalize stock returns data by subtracting the mean and dividing by standard diviation. This normalization is required by PCA."
   ]
  },
  {
   "cell_type": "code",
   "execution_count": 46,
   "metadata": {},
   "outputs": [
    {
     "data": {
      "text/html": [
       "<div>\n",
       "<style scoped>\n",
       "    .dataframe tbody tr th:only-of-type {\n",
       "        vertical-align: middle;\n",
       "    }\n",
       "\n",
       "    .dataframe tbody tr th {\n",
       "        vertical-align: top;\n",
       "    }\n",
       "\n",
       "    .dataframe thead th {\n",
       "        text-align: right;\n",
       "    }\n",
       "</style>\n",
       "<table border=\"1\" class=\"dataframe\">\n",
       "  <thead>\n",
       "    <tr style=\"text-align: right;\">\n",
       "      <th></th>\n",
       "      <th>STJ</th>\n",
       "      <th>SVU</th>\n",
       "      <th>SWY</th>\n",
       "      <th>TEG</th>\n",
       "      <th>TER</th>\n",
       "      <th>TGNA</th>\n",
       "      <th>THC</th>\n",
       "      <th>X</th>\n",
       "      <th>MAR.1</th>\n",
       "      <th>SPX</th>\n",
       "    </tr>\n",
       "  </thead>\n",
       "  <tbody>\n",
       "    <tr>\n",
       "      <th>2013-12-09</th>\n",
       "      <td>-0.573580</td>\n",
       "      <td>-0.282141</td>\n",
       "      <td>-0.495532</td>\n",
       "      <td>-0.551918</td>\n",
       "      <td>0.026234</td>\n",
       "      <td>-0.514798</td>\n",
       "      <td>0.033484</td>\n",
       "      <td>0.538695</td>\n",
       "      <td>0.290314</td>\n",
       "      <td>0.125778</td>\n",
       "    </tr>\n",
       "    <tr>\n",
       "      <th>2013-12-10</th>\n",
       "      <td>0.207785</td>\n",
       "      <td>-0.559295</td>\n",
       "      <td>0.728808</td>\n",
       "      <td>-1.125005</td>\n",
       "      <td>-0.153858</td>\n",
       "      <td>0.462602</td>\n",
       "      <td>-0.163188</td>\n",
       "      <td>0.271541</td>\n",
       "      <td>-0.018553</td>\n",
       "      <td>-0.253900</td>\n",
       "    </tr>\n",
       "    <tr>\n",
       "      <th>2013-12-11</th>\n",
       "      <td>-1.093059</td>\n",
       "      <td>-0.009310</td>\n",
       "      <td>0.294757</td>\n",
       "      <td>-1.039605</td>\n",
       "      <td>-0.319014</td>\n",
       "      <td>0.659458</td>\n",
       "      <td>-1.220152</td>\n",
       "      <td>-0.915225</td>\n",
       "      <td>-0.564173</td>\n",
       "      <td>-0.872207</td>\n",
       "    </tr>\n",
       "    <tr>\n",
       "      <th>2013-12-12</th>\n",
       "      <td>-0.162619</td>\n",
       "      <td>0.549531</td>\n",
       "      <td>0.336280</td>\n",
       "      <td>0.067172</td>\n",
       "      <td>-0.805115</td>\n",
       "      <td>-0.107159</td>\n",
       "      <td>-0.270004</td>\n",
       "      <td>0.254809</td>\n",
       "      <td>-0.018337</td>\n",
       "      <td>-0.298802</td>\n",
       "    </tr>\n",
       "    <tr>\n",
       "      <th>2013-12-13</th>\n",
       "      <td>-0.060486</td>\n",
       "      <td>0.540675</td>\n",
       "      <td>-0.256343</td>\n",
       "      <td>0.158149</td>\n",
       "      <td>0.044845</td>\n",
       "      <td>0.392133</td>\n",
       "      <td>-0.071433</td>\n",
       "      <td>0.885423</td>\n",
       "      <td>0.504771</td>\n",
       "      <td>-0.019997</td>\n",
       "    </tr>\n",
       "    <tr>\n",
       "      <th>2013-12-16</th>\n",
       "      <td>0.852722</td>\n",
       "      <td>0.965219</td>\n",
       "      <td>-1.168885</td>\n",
       "      <td>0.884751</td>\n",
       "      <td>0.095865</td>\n",
       "      <td>0.656639</td>\n",
       "      <td>0.180014</td>\n",
       "      <td>-0.238498</td>\n",
       "      <td>0.465047</td>\n",
       "      <td>0.467931</td>\n",
       "    </tr>\n",
       "    <tr>\n",
       "      <th>2013-12-17</th>\n",
       "      <td>0.275173</td>\n",
       "      <td>0.517307</td>\n",
       "      <td>-0.086106</td>\n",
       "      <td>-0.306213</td>\n",
       "      <td>0.589689</td>\n",
       "      <td>-0.118610</td>\n",
       "      <td>-0.549523</td>\n",
       "      <td>0.025268</td>\n",
       "      <td>-0.260013</td>\n",
       "      <td>-0.247921</td>\n",
       "    </tr>\n",
       "    <tr>\n",
       "      <th>2013-12-18</th>\n",
       "      <td>0.864485</td>\n",
       "      <td>0.509435</td>\n",
       "      <td>0.600714</td>\n",
       "      <td>1.210605</td>\n",
       "      <td>-0.190024</td>\n",
       "      <td>0.925461</td>\n",
       "      <td>0.756998</td>\n",
       "      <td>0.058428</td>\n",
       "      <td>0.952458</td>\n",
       "      <td>1.252703</td>\n",
       "    </tr>\n",
       "    <tr>\n",
       "      <th>2013-12-19</th>\n",
       "      <td>0.210069</td>\n",
       "      <td>0.399574</td>\n",
       "      <td>-0.100159</td>\n",
       "      <td>-0.757419</td>\n",
       "      <td>-0.208023</td>\n",
       "      <td>0.304913</td>\n",
       "      <td>-0.772205</td>\n",
       "      <td>1.544228</td>\n",
       "      <td>-0.167775</td>\n",
       "      <td>-0.056358</td>\n",
       "    </tr>\n",
       "    <tr>\n",
       "      <th>2013-12-20</th>\n",
       "      <td>0.827306</td>\n",
       "      <td>0.748420</td>\n",
       "      <td>0.372443</td>\n",
       "      <td>1.048113</td>\n",
       "      <td>0.264046</td>\n",
       "      <td>0.436874</td>\n",
       "      <td>0.320641</td>\n",
       "      <td>-0.740854</td>\n",
       "      <td>0.373717</td>\n",
       "      <td>0.353859</td>\n",
       "    </tr>\n",
       "  </tbody>\n",
       "</table>\n",
       "</div>"
      ],
      "text/plain": [
       "                 STJ       SVU       SWY       TEG       TER      TGNA  \\\n",
       "2013-12-09 -0.573580 -0.282141 -0.495532 -0.551918  0.026234 -0.514798   \n",
       "2013-12-10  0.207785 -0.559295  0.728808 -1.125005 -0.153858  0.462602   \n",
       "2013-12-11 -1.093059 -0.009310  0.294757 -1.039605 -0.319014  0.659458   \n",
       "2013-12-12 -0.162619  0.549531  0.336280  0.067172 -0.805115 -0.107159   \n",
       "2013-12-13 -0.060486  0.540675 -0.256343  0.158149  0.044845  0.392133   \n",
       "2013-12-16  0.852722  0.965219 -1.168885  0.884751  0.095865  0.656639   \n",
       "2013-12-17  0.275173  0.517307 -0.086106 -0.306213  0.589689 -0.118610   \n",
       "2013-12-18  0.864485  0.509435  0.600714  1.210605 -0.190024  0.925461   \n",
       "2013-12-19  0.210069  0.399574 -0.100159 -0.757419 -0.208023  0.304913   \n",
       "2013-12-20  0.827306  0.748420  0.372443  1.048113  0.264046  0.436874   \n",
       "\n",
       "                 THC         X     MAR.1       SPX  \n",
       "2013-12-09  0.033484  0.538695  0.290314  0.125778  \n",
       "2013-12-10 -0.163188  0.271541 -0.018553 -0.253900  \n",
       "2013-12-11 -1.220152 -0.915225 -0.564173 -0.872207  \n",
       "2013-12-12 -0.270004  0.254809 -0.018337 -0.298802  \n",
       "2013-12-13 -0.071433  0.885423  0.504771 -0.019997  \n",
       "2013-12-16  0.180014 -0.238498  0.465047  0.467931  \n",
       "2013-12-17 -0.549523  0.025268 -0.260013 -0.247921  \n",
       "2013-12-18  0.756998  0.058428  0.952458  1.252703  \n",
       "2013-12-19 -0.772205  1.544228 -0.167775 -0.056358  \n",
       "2013-12-20  0.320641 -0.740854  0.373717  0.353859  "
      ]
     },
     "execution_count": 46,
     "metadata": {},
     "output_type": "execute_result"
    }
   ],
   "source": [
    "asset_returns = asset_prices.pct_change().dropna()\n",
    "normed_returns = (asset_returns - asset_returns.mean())/asset_returns.std()\n",
    "normed_returns.iloc[-10:, -10:]"
   ]
  },
  {
   "cell_type": "code",
   "execution_count": 47,
   "metadata": {},
   "outputs": [
    {
     "name": "stdout",
     "output_type": "stream",
     "text": [
      "Train dataset: (3055, 419)\n",
      "Test dataset: (437, 419)\n"
     ]
    }
   ],
   "source": [
    "train_end = datetime.datetime(2012, 3, 26) \n",
    "\n",
    "df_train = normed_returns[normed_returns.index <= train_end].copy()\n",
    "df_test = normed_returns[normed_returns.index > train_end].copy()\n",
    "\n",
    "df_raw_train = asset_returns[asset_returns.index <= train_end].copy()\n",
    "df_raw_test = asset_returns[asset_returns.index > train_end].copy()\n",
    "\n",
    "print('Train dataset:', df_train.shape)\n",
    "print('Test dataset:', df_test.shape)"
   ]
  },
  {
   "cell_type": "markdown",
   "metadata": {},
   "source": [
    "#### Part 2 (PCA fitting)\n",
    "\n",
    "Now compute PCA using all available data. Once we have PCA computed, fix the variance explained at some number and see what is the smallest number of components needed to explain this variance.\n",
    "\n",
    "**Instructions:**\n",
    "- Calculate covariance matrix using training data set, i.e. **df_train** for all assets.  Assign results to **cov_matrix**.\n",
    "- Calculate covariance matrix using training data set, i.e. **df_raw_train** for all assets.  Assign results to **cov_matrix_raw**.\n",
    "- Use scikit-learn PCA to fit PCA model to **cov_matrix**. Assign fitted model to **pca**"
   ]
  },
  {
   "cell_type": "code",
   "execution_count": 48,
   "metadata": {},
   "outputs": [
    {
     "name": "stdout",
     "output_type": "stream",
     "text": [
      "4 components explain 80.00% of variance\n"
     ]
    }
   ],
   "source": [
    "import sklearn.decomposition\n",
    "import seaborn as sns\n",
    "\n",
    "stock_tickers = normed_returns.columns.values[:-1]\n",
    "\n",
    "n_tickers = len(stock_tickers)\n",
    "\n",
    "if df_train is not None and df_raw_train is not None:\n",
    "    stock_tickers = asset_returns.columns.values[:-1]\n",
    "    \n",
    "    cov_matrix = df_train.iloc[:,:-1].cov()\n",
    "    pca = sklearn.decomposition.PCA().fit(cov_matrix)\n",
    "      \n",
    "    # cumulative variance explained\n",
    "    var_threshold = 0.8\n",
    "    var_explained = np.cumsum(pca.explained_variance_ratio_)\n",
    "    num_comp = np.where(np.logical_not(var_explained < var_threshold))[0][0] + 1  # +1 due to zero based-arrays\n",
    "    print('%d components explain %.2f%% of variance' %(num_comp, 100* var_threshold))"
   ]
  },
  {
   "cell_type": "code",
   "execution_count": 49,
   "metadata": {},
   "outputs": [
    {
     "data": {
      "text/plain": [
       "<matplotlib.legend.Legend at 0x1a30a82cf8>"
      ]
     },
     "execution_count": 49,
     "metadata": {},
     "output_type": "execute_result"
    },
    {
     "data": {
      "image/png": "[encoded data removed]",
      "text/plain": [
       "<Figure size 864x288 with 1 Axes>"
      ]
     },
     "metadata": {
      "needs_background": "light"
     },
     "output_type": "display_data"
    }
   ],
   "source": [
    "bar_width = .9\n",
    "n_asset = int((1 / 10) * normed_returns.shape[1])\n",
    "x_indx = np.arange(n_asset)\n",
    "fig, ax = plt.subplots()\n",
    "fig.set_size_inches(12, 4)\n",
    "# Eigenvalues are measured as percentage of explained variance.\n",
    "rects = ax.bar(x_indx, pca.explained_variance_ratio_[:n_asset], bar_width, color='deepskyblue')\n",
    "ax.set_xticks(x_indx + bar_width / 2)\n",
    "ax.set_xticklabels(list(range(n_asset)), rotation=45)\n",
    "ax.set_title('Percent variance explained')\n",
    "ax.legend((rects[0],), ('Percent variance explained by principal components',))"
   ]
  },
  {
   "cell_type": "markdown",
   "metadata": {},
   "source": [
    "#### Part 3 (Eigenportfolio construction)\n",
    "\n",
    "Now look at the first two eigen portfolios. Sort each of the first two eigenportfolios by weight and plot the weights."
   ]
  },
  {
   "cell_type": "code",
   "execution_count": 58,
   "metadata": {
    "scrolled": true
   },
   "outputs": [
    {
     "name": "stdout",
     "output_type": "stream",
     "text": [
      "Sum of weights of first eigen-portfolio: 100.00\n"
     ]
    },
    {
     "data": {
      "text/plain": [
       "<matplotlib.axes._subplots.AxesSubplot at 0x123a66198>"
      ]
     },
     "execution_count": 58,
     "metadata": {},
     "output_type": "execute_result"
    },
    {
     "data": {
      "image/png": "[encoded data removed]",
      "text/plain": [
       "<Figure size 864x432 with 1 Axes>"
      ]
     },
     "metadata": {
      "needs_background": "light"
     },
     "output_type": "display_data"
    }
   ],
   "source": [
    "pcs = pca.components_\n",
    "pc_w = pcs[:, 0] / sum(pcs[:, 0])\n",
    "eigen_prtf1 = pd.DataFrame(data ={'weights': 100*pc_w.squeeze()}, index = stock_tickers)\n",
    "eigen_prtf1.sort_values(by=['weights'], ascending=False, inplace=True)\n",
    "print('Sum of weights of first eigen-portfolio: %.2f' % np.sum(eigen_prtf1))\n",
    "eigen_prtf1.plot(title='First eigen-portfolio weights', \n",
    "                 figsize=(12,6), \n",
    "                 xticks=range(0, len(stock_tickers),10), \n",
    "                 rot=45, \n",
    "                 linewidth=3)"
   ]
  },
  {
   "cell_type": "code",
   "execution_count": 59,
   "metadata": {},
   "outputs": [
    {
     "name": "stdout",
     "output_type": "stream",
     "text": [
      "Sum of weights of second eigen-portfolio: 100.00\n"
     ]
    },
    {
     "data": {
      "text/plain": [
       "<matplotlib.axes._subplots.AxesSubplot at 0x123b1f208>"
      ]
     },
     "execution_count": 59,
     "metadata": {},
     "output_type": "execute_result"
    },
    {
     "data": {
      "image/png": "[encoded data removed]",
      "text/plain": [
       "<Figure size 864x432 with 1 Axes>"
      ]
     },
     "metadata": {
      "needs_background": "light"
     },
     "output_type": "display_data"
    }
   ],
   "source": [
    "pcs = pca.components_\n",
    "pc_w = pcs[:, 1] / sum(pcs[:, 1])\n",
    "eigen_prtf2 = pd.DataFrame(data ={'weights': pc_w.squeeze()*100}, index = stock_tickers)\n",
    "eigen_prtf2.sort_values(by=['weights'], ascending=False, inplace=True)\n",
    "print('Sum of weights of second eigen-portfolio: %.2f' % np.sum(eigen_prtf2))\n",
    "eigen_prtf2.plot(title='Second eigen-portfolio weights',\n",
    "                 figsize=(12,6), \n",
    "                 xticks=range(0, len(stock_tickers),10), \n",
    "                 rot=45, \n",
    "                 linewidth=3)"
   ]
  },
  {
   "cell_type": "markdown",
   "metadata": {},
   "source": [
    "#### Part 4 (Compute performance of several eigen portfolios)\n",
    "\n",
    "- Implement sharpe_ratio() function. The function takes ts_returns argument of type pd.Series and returns a tuple of annualized return, annualized vol, and annualized sharpe ratio, where sharpe ratio is defined as annualized return divided by annualized volatility \n",
    "\n",
    "- find portfolio (an index into sharpe_metric) that has the highest sharpe ratio"
   ]
  },
  {
   "cell_type": "code",
   "execution_count": 60,
   "metadata": {},
   "outputs": [],
   "source": [
    "from math import sqrt\n",
    "\n",
    "def sharpe_ratio(ts_returns, periods_per_year=252):\n",
    "    \"\"\"\n",
    "    sharpe_ratio - Calculates annualized return, annualized vol, and annualized sharpe ratio, \n",
    "                    where sharpe ratio is defined as annualized return divided by annualized volatility \n",
    "                    \n",
    "    Arguments:\n",
    "    ts_returns - pd.Series of returns of a single eigen portfolio\n",
    "    \n",
    "    Return:\n",
    "    a tuple of three doubles: annualized return, volatility, and sharpe ratio\n",
    "    \"\"\"\n",
    "    \n",
    "    num_years = ts_returns.shape[0] / periods_per_year\n",
    "    total_returns = (1+ts_returns).cumprod()[-1]\n",
    "    annualized_return = total_returns ** (float(1./num_years)) - 1\n",
    "    annualized_vol = ts_returns.std() * sqrt(periods_per_year)\n",
    "    annualized_sharpe = annualized_return / annualized_vol\n",
    "    \n",
    "    return annualized_return, annualized_vol, annualized_sharpe"
   ]
  },
  {
   "cell_type": "markdown",
   "metadata": {},
   "source": [
    "We compute the annualized return, volatility, and Sharpe ratio of the first two eigen portfolios."
   ]
  },
  {
   "cell_type": "code",
   "execution_count": 62,
   "metadata": {},
   "outputs": [
    {
     "name": "stdout",
     "output_type": "stream",
     "text": [
      "First eigen-portfolio:\n",
      "Return = 41.39%\n",
      "Volatility = 31.50%\n",
      "Sharpe = 1.31\n"
     ]
    },
    {
     "data": {
      "text/plain": [
       "<matplotlib.axes._subplots.AxesSubplot at 0x1a31467278>"
      ]
     },
     "execution_count": 62,
     "metadata": {},
     "output_type": "execute_result"
    },
    {
     "data": {
      "image/png": "[encoded data removed]",
      "text/plain": [
       "<Figure size 864x432 with 1 Axes>"
      ]
     },
     "metadata": {
      "needs_background": "light"
     },
     "output_type": "display_data"
    }
   ],
   "source": [
    "eigen_prtf1_returns = np.dot(df_raw_test.loc[:, eigen_prtf1.index], eigen_prtf1 / 100)\n",
    "eigen_prtf1_returns = pd.Series(eigen_prtf1_returns.squeeze(), index=df_test.index)\n",
    "er, vol, sharpe = sharpe_ratio(eigen_prtf1_returns)\n",
    "print('First eigen-portfolio:\\nReturn = %.2f%%\\nVolatility = %.2f%%\\nSharpe = %.2f' % (er*100, vol*100, sharpe))\n",
    "year_frac = (eigen_prtf1_returns.index[-1] - eigen_prtf1_returns.index[0]).days / 252\n",
    "\n",
    "df_plot = pd.DataFrame({'PC1': eigen_prtf1_returns, 'SPX': df_raw_test.loc[:, 'SPX']}, index=df_test.index)\n",
    "np.cumprod(df_plot + 1).plot(title='Returns of the market-cap weighted index vs. First eigen-portfolio', \n",
    "                         figsize=(12,6), linewidth=3)"
   ]
  },
  {
   "cell_type": "code",
   "execution_count": 63,
   "metadata": {},
   "outputs": [
    {
     "name": "stdout",
     "output_type": "stream",
     "text": [
      "Second eigen-portfolio:\n",
      "Return = 15.76%\n",
      "Volatility = 42.84%\n",
      "Sharpe = 0.37\n"
     ]
    }
   ],
   "source": [
    "eigen_prtf2_returns = np.dot(df_raw_test.loc[:, eigen_prtf2.index], eigen_prtf2 / 100)\n",
    "eigen_prtf2_returns = pd.Series(eigen_prtf2_returns.squeeze(), index=df_test.index)\n",
    "er, vol, sharpe = sharpe_ratio(eigen_prtf2_returns)\n",
    "print('Second eigen-portfolio:\\nReturn = %.2f%%\\nVolatility = %.2f%%\\nSharpe = %.2f' % (er*100, vol*100, sharpe))"
   ]
  },
  {
   "cell_type": "markdown",
   "metadata": {},
   "source": [
    "We repeat the exercise of computing Sharpe ratio for the first N portfolios and select portfolio with the highest postive Sharpe ratio."
   ]
  },
  {
   "cell_type": "code",
   "execution_count": 64,
   "metadata": {},
   "outputs": [
    {
     "name": "stderr",
     "output_type": "stream",
     "text": [
      "/Users/jrosaler/anaconda3/envs/insight/lib/python3.6/site-packages/ipykernel_launcher.py:17: RuntimeWarning: invalid value encountered in double_scalars\n",
      "/Users/jrosaler/anaconda3/envs/insight/lib/python3.6/site-packages/ipykernel_launcher.py:17: RuntimeWarning: invalid value encountered in double_scalars\n"
     ]
    },
    {
     "name": "stdout",
     "output_type": "stream",
     "text": [
      "Eigen portfolio #42 with the highest Sharpe. Return 61.14%, vol = 22.80%, Sharpe = 2.68\n"
     ]
    },
    {
     "name": "stderr",
     "output_type": "stream",
     "text": [
      "/Users/jrosaler/anaconda3/envs/insight/lib/python3.6/site-packages/ipykernel_launcher.py:17: RuntimeWarning: invalid value encountered in double_scalars\n"
     ]
    },
    {
     "data": {
      "text/plain": [
       "Text(0.5, 0, 'Portfolios')"
      ]
     },
     "execution_count": 64,
     "metadata": {},
     "output_type": "execute_result"
    },
    {
     "data": {
      "image/png": "[encoded data removed]",
      "text/plain": [
       "<Figure size 864x288 with 1 Axes>"
      ]
     },
     "metadata": {
      "needs_background": "light"
     },
     "output_type": "display_data"
    }
   ],
   "source": [
    "n_portfolios = 120\n",
    "annualized_ret = np.array([0.] * n_portfolios)\n",
    "sharpe_metric = np.array([0.] * n_portfolios)\n",
    "annualized_vol = np.array([0.] * n_portfolios)\n",
    "idx_highest_sharpe = 0 # index into sharpe_metric which identifies a portfolio with rhe highest Sharpe ratio\n",
    "    \n",
    "for ix in range(n_portfolios):     \n",
    "    pc_w = pcs[:, ix] / sum(pcs[:, ix])\n",
    "    eigen_prtf = pd.DataFrame(data ={'weights': pc_w.squeeze()*100}, index = stock_tickers)\n",
    "    eigen_prtf.sort_values(by=['weights'], ascending=False, inplace=True)\n",
    "    eigen_prtf_returns = np.dot(df_raw_test.loc[:, eigen_prtf.index], eigen_prtf / 100)\n",
    "    eigen_prtf_returns = pd.Series(eigen_prtf_returns.squeeze(), index=df_test.index)\n",
    "    ret, vol, sharpe = sharpe_ratio(eigen_prtf_returns)\n",
    "    annualized_ret[ix] = ret\n",
    "    annualized_vol[ix] = vol\n",
    "    sharpe_metric[ix] = sharpe\n",
    "        \n",
    "idx_highest_sharpe = np.nanargmax(sharpe_metric)\n",
    "      \n",
    "print('Eigen portfolio #%d with the highest Sharpe. Return %.2f%%, vol = %.2f%%, Sharpe = %.2f' % \n",
    "      (idx_highest_sharpe,\n",
    "       annualized_ret[idx_highest_sharpe]*100, \n",
    "       annualized_vol[idx_highest_sharpe]*100, \n",
    "       sharpe_metric[idx_highest_sharpe]))\n",
    "\n",
    "fig, ax = plt.subplots()\n",
    "fig.set_size_inches(12, 4)\n",
    "ax.plot(sharpe_metric, linewidth=3)\n",
    "ax.set_title('Sharpe ratio of eigen-portfolios')\n",
    "ax.set_ylabel('Sharpe ratio')\n",
    "ax.set_xlabel('Portfolios')"
   ]
  },
  {
   "cell_type": "code",
   "execution_count": 65,
   "metadata": {},
   "outputs": [
    {
     "data": {
      "text/html": [
       "<div>\n",
       "<style scoped>\n",
       "    .dataframe tbody tr th:only-of-type {\n",
       "        vertical-align: middle;\n",
       "    }\n",
       "\n",
       "    .dataframe tbody tr th {\n",
       "        vertical-align: top;\n",
       "    }\n",
       "\n",
       "    .dataframe thead th {\n",
       "        text-align: right;\n",
       "    }\n",
       "</style>\n",
       "<table border=\"1\" class=\"dataframe\">\n",
       "  <thead>\n",
       "    <tr style=\"text-align: right;\">\n",
       "      <th></th>\n",
       "      <th>Return</th>\n",
       "      <th>Vol</th>\n",
       "      <th>Sharpe</th>\n",
       "    </tr>\n",
       "  </thead>\n",
       "  <tbody>\n",
       "    <tr>\n",
       "      <th>42</th>\n",
       "      <td>0.611437</td>\n",
       "      <td>0.228033</td>\n",
       "      <td>2.681354</td>\n",
       "    </tr>\n",
       "    <tr>\n",
       "      <th>24</th>\n",
       "      <td>1.032178</td>\n",
       "      <td>0.424530</td>\n",
       "      <td>2.431344</td>\n",
       "    </tr>\n",
       "    <tr>\n",
       "      <th>104</th>\n",
       "      <td>0.512464</td>\n",
       "      <td>0.213640</td>\n",
       "      <td>2.398724</td>\n",
       "    </tr>\n",
       "    <tr>\n",
       "      <th>97</th>\n",
       "      <td>1.425562</td>\n",
       "      <td>0.609754</td>\n",
       "      <td>2.337929</td>\n",
       "    </tr>\n",
       "    <tr>\n",
       "      <th>9</th>\n",
       "      <td>0.753548</td>\n",
       "      <td>0.326692</td>\n",
       "      <td>2.306601</td>\n",
       "    </tr>\n",
       "    <tr>\n",
       "      <th>94</th>\n",
       "      <td>0.502025</td>\n",
       "      <td>0.225976</td>\n",
       "      <td>2.221589</td>\n",
       "    </tr>\n",
       "    <tr>\n",
       "      <th>93</th>\n",
       "      <td>0.601081</td>\n",
       "      <td>0.271151</td>\n",
       "      <td>2.216774</td>\n",
       "    </tr>\n",
       "    <tr>\n",
       "      <th>2</th>\n",
       "      <td>0.453437</td>\n",
       "      <td>0.206247</td>\n",
       "      <td>2.198512</td>\n",
       "    </tr>\n",
       "    <tr>\n",
       "      <th>102</th>\n",
       "      <td>0.274142</td>\n",
       "      <td>0.151208</td>\n",
       "      <td>1.813008</td>\n",
       "    </tr>\n",
       "    <tr>\n",
       "      <th>118</th>\n",
       "      <td>0.874381</td>\n",
       "      <td>0.487549</td>\n",
       "      <td>1.793422</td>\n",
       "    </tr>\n",
       "  </tbody>\n",
       "</table>\n",
       "</div>"
      ],
      "text/plain": [
       "       Return       Vol    Sharpe\n",
       "42   0.611437  0.228033  2.681354\n",
       "24   1.032178  0.424530  2.431344\n",
       "104  0.512464  0.213640  2.398724\n",
       "97   1.425562  0.609754  2.337929\n",
       "9    0.753548  0.326692  2.306601\n",
       "94   0.502025  0.225976  2.221589\n",
       "93   0.601081  0.271151  2.216774\n",
       "2    0.453437  0.206247  2.198512\n",
       "102  0.274142  0.151208  1.813008\n",
       "118  0.874381  0.487549  1.793422"
      ]
     },
     "execution_count": 65,
     "metadata": {},
     "output_type": "execute_result"
    }
   ],
   "source": [
    "results = pd.DataFrame(data={'Return': annualized_ret, 'Vol': annualized_vol, 'Sharpe': sharpe_metric})\n",
    "results = results.dropna()\n",
    "results.sort_values(by=['Sharpe'], ascending=False, inplace=True)\n",
    "results.head(10)"
   ]
  },
  {
   "cell_type": "markdown",
   "metadata": {
    "collapsed": true
   },
   "source": [
    "## Conclusions"
   ]
  },
  {
   "cell_type": "markdown",
   "metadata": {},
   "source": [
    "The eigenportfolio of stocks in the S&P500 with the 42nd largest variance has the largest annualized Sharpe ratio, of 2.68. By "
   ]
  },
  {
   "cell_type": "code",
   "execution_count": null,
   "metadata": {},
   "outputs": [],
   "source": []
  }
 ],
 "metadata": {
  "anaconda-cloud": {},
  "coursera": {
   "course_slug": "machine-learning-in-finance"
  },
  "kernelspec": {
   "display_name": "Python 3",
   "language": "python",
   "name": "python3"
  },
  "language_info": {
   "codemirror_mode": {
    "name": "ipython",
    "version": 3
   },
   "file_extension": ".py",
   "mimetype": "text/x-python",
   "name": "python",
   "nbconvert_exporter": "python",
   "pygments_lexer": "ipython3",
   "version": "3.6.8"
  }
 },
 "nbformat": 4,
 "nbformat_minor": 1
}
